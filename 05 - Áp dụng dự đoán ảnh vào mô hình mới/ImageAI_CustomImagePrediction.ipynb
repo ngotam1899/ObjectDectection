{
 "cells": [
  {
   "cell_type": "code",
   "execution_count": 11,
   "metadata": {},
   "outputs": [
    {
     "name": "stdout",
     "output_type": "stream",
     "text": [
      "mechanic  :  94.10364627838135\n",
      "waiter  :  4.49790358543396\n",
      "chef  :  0.8873304352164268\n",
      "judge  :  0.4321095533668995\n",
      "fireman  :  0.05420211819000542\n"
     ]
    }
   ],
   "source": [
    "#Custom Model Prediction with Full Model\n",
    "from imageai.Prediction.Custom import CustomImagePrediction\n",
    "import os\n",
    "\n",
    "execution_path = os.getcwd()\n",
    "\n",
    "prediction = CustomImagePrediction()\n",
    "prediction.setModelTypeAsResNet()\n",
    "prediction.setModelPath(os.path.join(execution_path, \"idenprof_061-0.7933.h5\"))\n",
    "prediction.setJsonPath(os.path.join(execution_path, \"model_class.json\"))\n",
    "prediction.loadModel(num_objects=10)\n",
    "\n",
    "predictions, probabilities = prediction.predictImage(os.path.join(execution_path, \"4.jpg\"), result_count=5)\n",
    "\n",
    "for eachPrediction, eachProbability in zip(predictions, probabilities):\n",
    "    print(eachPrediction , \" : \" , eachProbability)"
   ]
  },
  {
   "cell_type": "code",
   "execution_count": 8,
   "metadata": {},
   "outputs": [
    {
     "name": "stdout",
     "output_type": "stream",
     "text": [
      "['engineer', 'pilot', 'waiter', 'judge', 'mechanic']\n",
      "[45.2113538980484, 26.716023683547974, 9.988465160131454, 6.616399437189102, 4.316425323486328]\n",
      "['chef', 'farmer', 'doctor', 'waiter', 'engineer']\n",
      "[33.1080287694931, 27.988171577453613, 11.080970615148544, 10.86096540093422, 9.65433120727539]\n",
      "['waiter', 'judge', 'engineer', 'police', 'pilot']\n",
      "[61.55781149864197, 13.309656083583832, 5.545392259955406, 5.488504096865654, 4.629473015666008]\n",
      "-------------------------------\n"
     ]
    }
   ],
   "source": [
    "#Custom Prediction with multiple models\n",
    "from imageai.Prediction.Custom import CustomImagePrediction\n",
    "import os\n",
    "\n",
    "execution_path = os.getcwd()\n",
    "\n",
    "predictor = CustomImagePrediction()\n",
    "predictor.setModelPath(model_path=os.path.join(execution_path, \"idenprof_resnet.h5\"))\n",
    "predictor.setJsonPath(model_json=os.path.join(execution_path, \"idenprof.json\"))\n",
    "predictor.setModelTypeAsResNet()\n",
    "predictor.loadModel(num_objects=10)\n",
    "\n",
    "predictor2 = CustomImagePrediction()\n",
    "predictor2.setModelPath(model_path=os.path.join(execution_path, \"idenprof_full_resnet_ex-001_acc-0.119792.h5\"))\n",
    "predictor2.setJsonPath(model_json=os.path.join(execution_path, \"idenprof.json\"))\n",
    "predictor2.loadFullModel(num_objects=10)\n",
    "\n",
    "predictor3 = CustomImagePrediction()\n",
    "predictor3.setModelPath(model_path=os.path.join(execution_path, \"idenprof_inception_0.719500.h5\"))\n",
    "predictor3.setJsonPath(model_json=os.path.join(execution_path, \"idenprof.json\"))\n",
    "predictor3.setModelTypeAsInceptionV3()\n",
    "predictor3.loadModel(num_objects=10)\n",
    "\n",
    "results, probabilities = predictor.predictImage(image_input=os.path.join(execution_path, \"9.jpg\"), result_count=5)\n",
    "print(results)\n",
    "print(probabilities)\n",
    "\n",
    "results2, probabilities2 = predictor2.predictImage(image_input=os.path.join(execution_path, \"9.jpg\"),\n",
    "                                                    result_count=5)\n",
    "print(results2)\n",
    "print(probabilities2)\n",
    "\n",
    "results3, probabilities3 = predictor3.predictImage(image_input=os.path.join(execution_path, \"9.jpg\"),\n",
    "                                                       result_count=5)\n",
    "print(results3)\n",
    "print(probabilities3)\n",
    "print(\"-------------------------------\")"
   ]
  },
  {
   "cell_type": "code",
   "execution_count": 10,
   "metadata": {},
   "outputs": [
    {
     "name": "stdout",
     "output_type": "stream",
     "text": [
      "['chef', 'farmer', 'doctor', 'waiter', 'engineer']\n",
      "[32.86145031452179, 26.923298835754395, 11.32262870669365, 11.099173128604889, 10.150057822465897]\n"
     ]
    }
   ],
   "source": [
    "#Convert custom model to Tensorflow's format\n",
    "from imageai.Prediction.Custom import CustomImagePrediction\n",
    "import os\n",
    "\n",
    "execution_path = os.getcwd()\n",
    "\n",
    "\n",
    "predictor = CustomImagePrediction()\n",
    "predictor.setModelPath(model_path=os.path.join(execution_path, \"idenprof_full_resnet_ex-001_acc-0.119792.h5\"))\n",
    "predictor.setJsonPath(model_json=os.path.join(execution_path, \"idenprof.json\"))\n",
    "predictor.loadFullModel(num_objects=10)\n",
    "\n",
    "results, probabilities = predictor.predictImage(image_input=os.path.join(execution_path, \"8.jpg\"), result_count=5)\n",
    "print(results)\n",
    "print(probabilities)"
   ]
  },
  {
   "cell_type": "code",
   "execution_count": 11,
   "metadata": {},
   "outputs": [
    {
     "name": "stdout",
     "output_type": "stream",
     "text": [
      "C:\\Users\\ngota\\idenprof.json\n",
      "JSON Config file saved for DeepStack format in  C:\\Users\\ngota\\deepstack_model\\config.json\n",
      "Model saved for DeepStack format in C:\\Users\\ngota\\deepstack_model\\idenprof_resnet_deepstack.h5\n"
     ]
    }
   ],
   "source": [
    "#Convert custom model to DeepStack's format\n",
    "from imageai.Prediction.Custom import CustomImagePrediction\n",
    "import os\n",
    "\n",
    "execution_path = os.getcwd()\n",
    "\n",
    "predictor = CustomImagePrediction()\n",
    "predictor.setModelTypeAsResNet()\n",
    "predictor.setModelPath(model_path=os.path.join(execution_path, \"idenprof_resnet.h5\"))\n",
    "predictor.setJsonPath(model_json=os.path.join(execution_path, \"idenprof.json\"))\n",
    "predictor.loadModel(num_objects=10)\n",
    "predictor.save_model_for_deepstack(new_model_folder= os.path.join(execution_path, \"deepstack_model\"), new_model_name=\"idenprof_resnet_deepstack.h5\")"
   ]
  },
  {
   "cell_type": "code",
   "execution_count": null,
   "metadata": {},
   "outputs": [],
   "source": []
  }
 ],
 "metadata": {
  "kernelspec": {
   "display_name": "Python 3",
   "language": "python",
   "name": "python3"
  },
  "language_info": {
   "codemirror_mode": {
    "name": "ipython",
    "version": 3
   },
   "file_extension": ".py",
   "mimetype": "text/x-python",
   "name": "python",
   "nbconvert_exporter": "python",
   "pygments_lexer": "ipython3",
   "version": "3.7.3"
  }
 },
 "nbformat": 4,
 "nbformat_minor": 2
}
