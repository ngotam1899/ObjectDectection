{
 "cells": [
  {
   "cell_type": "code",
   "execution_count": 2,
   "metadata": {},
   "outputs": [
    {
     "name": "stdout",
     "output_type": "stream",
     "text": [
      "WARNING:tensorflow:From C:\\ProgramData\\Anaconda3\\lib\\site-packages\\keras\\backend\\tensorflow_backend.py:422: The name tf.global_variables is deprecated. Please use tf.compat.v1.global_variables instead.\n",
      "\n",
      "hololens  :  87.6643180847168  :  [23, 45, 90, 79]\n",
      "hololens  :  89.25175070762634  :  [191, 64, 243, 93]\n",
      "hololens  :  64.49641585350037  :  [437, 76, 514, 127]\n",
      "hololens  :  91.78624749183655  :  [380, 109, 423, 134]\n"
     ]
    }
   ],
   "source": [
    "from imageai.Detection.Custom import CustomObjectDetection\n",
    "\n",
    "detector = CustomObjectDetection()\n",
    "detector.setModelTypeAsYOLOv3()\n",
    "detector.setModelPath(\"hololens-ex-60--loss-2.76.h5\")\n",
    "detector.setJsonPath(\"detection_config.json\")\n",
    "detector.loadModel()\n",
    "detections = detector.detectObjectsFromImage(input_image=\"holo2.jpg\", output_image_path=\"holo2-detected.jpg\")\n",
    "for detection in detections:\n",
    "    print(detection[\"name\"], \" : \", detection[\"percentage_probability\"], \" : \", detection[\"box_points\"])"
   ]
  },
  {
   "cell_type": "code",
   "execution_count": 3,
   "metadata": {},
   "outputs": [
    {
     "name": "stdout",
     "output_type": "stream",
     "text": [
      "holo2-detected-objects\\hololens-00000.jpg\n",
      "hololens  :  87.6643180847168  :  [23, 45, 90, 79]\n",
      "---------------\n",
      "holo2-detected-objects\\hololens-00001.jpg\n",
      "hololens  :  89.25175070762634  :  [191, 64, 243, 93]\n",
      "---------------\n",
      "holo2-detected-objects\\hololens-00002.jpg\n",
      "hololens  :  64.49641585350037  :  [437, 76, 514, 127]\n",
      "---------------\n",
      "holo2-detected-objects\\hololens-00003.jpg\n",
      "hololens  :  91.78624749183655  :  [380, 109, 423, 134]\n",
      "---------------\n"
     ]
    }
   ],
   "source": [
    "#Object Detection, Extraction and Fine-tune\n",
    "from imageai.Detection.Custom import CustomObjectDetection\n",
    "\n",
    "detector = CustomObjectDetection()\n",
    "detector.setModelTypeAsYOLOv3()\n",
    "detector.setModelPath(\"hololens-ex-60--loss-2.76.h5\")\n",
    "detector.setJsonPath(\"detection_config.json\") \n",
    "detector.loadModel()\n",
    "detections, extracted_objects_array = detector.detectObjectsFromImage(input_image=\"holo2.jpg\", \n",
    "                                                                      output_image_path=\"holo2-detected.jpg\", \n",
    "                                                                      extract_detected_objects=True)\n",
    "\n",
    "for detection, object_path in zip(detections, extracted_objects_array):\n",
    "    print(object_path)\n",
    "    print(detection[\"name\"], \" : \", detection[\"percentage_probability\"], \" : \", detection[\"box_points\"])\n",
    "    print(\"---------------\")"
   ]
  },
  {
   "cell_type": "code",
   "execution_count": null,
   "metadata": {},
   "outputs": [],
   "source": []
  }
 ],
 "metadata": {
  "kernelspec": {
   "display_name": "Python 3",
   "language": "python",
   "name": "python3"
  },
  "language_info": {
   "codemirror_mode": {
    "name": "ipython",
    "version": 3
   },
   "file_extension": ".py",
   "mimetype": "text/x-python",
   "name": "python",
   "nbconvert_exporter": "python",
   "pygments_lexer": "ipython3",
   "version": "3.7.3"
  }
 },
 "nbformat": 4,
 "nbformat_minor": 2
}
