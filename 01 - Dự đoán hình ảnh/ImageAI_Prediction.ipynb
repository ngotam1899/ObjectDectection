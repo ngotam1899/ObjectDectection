{
 "cells": [
  {
   "cell_type": "code",
   "execution_count": 1,
   "metadata": {},
   "outputs": [
    {
     "name": "stdout",
     "output_type": "stream",
     "text": [
      "WARNING:tensorflow:From C:\\ProgramData\\Anaconda3\\lib\\site-packages\\tensorflow\\python\\ops\\init_ops.py:1251: calling VarianceScaling.__init__ (from tensorflow.python.ops.init_ops) with dtype is deprecated and will be removed in a future version.\n",
      "Instructions for updating:\n",
      "Call initializer instance with the dtype argument instead of passing it to the constructor\n",
      "convertible  :  52.459681034088135\n",
      "sports_car  :  37.61271834373474\n",
      "pickup  :  3.1751155853271484\n",
      "car_wheel  :  1.8175030127167702\n",
      "minivan  :  1.7487060278654099\n"
     ]
    }
   ],
   "source": [
    "from imageai.Prediction import ImagePrediction #Thư viện dự đoán ảnh\n",
    "# Thư viện làm vs thư mục\n",
    "import os \n",
    "\n",
    "# Trả về thư mục làm việc hiện tại (CWD) của tệp\n",
    "execution_path = os.getcwd() \n",
    "\n",
    "# Dự đoán thành phần xe trong hình\n",
    "prediction = ImagePrediction()\n",
    "# đặt loại mô hình của đối tượng dự đoán thành (ResNet) Residual Network\n",
    "prediction.setModelTypeAsResNet() \n",
    "prediction.setModelPath(os.path.join(execution_path, \"resnet50_weights_tf_dim_ordering_tf_kernels.h5\"))\n",
    "prediction.loadModel()\n",
    "\n",
    "# Dự đoán ảnh cho ra 5 kết quả gần nhất\n",
    "predictions, probabilities = prediction.predictImage(os.path.join(execution_path, \"1.jpg\"), result_count=5)\n",
    "for eachPrediction, eachProbability in zip(predictions, probabilities):\n",
    "    print(eachPrediction , \" : \" , eachProbability)"
   ]
  },
  {
   "cell_type": "code",
   "execution_count": 21,
   "metadata": {},
   "outputs": [],
   "source": [
    "#Nhận xét:\n",
    "# convertible  :  52.5822639465332 -> Ô tô có mui được dự đoán"
   ]
  },
  {
   "cell_type": "code",
   "execution_count": 22,
   "metadata": {},
   "outputs": [
    {
     "name": "stdout",
     "output_type": "stream",
     "text": [
      "convertible  :  52.5822639465332\n",
      "sports_car  :  37.66406178474426\n",
      "pickup  :  3.02505474537611\n",
      "car_wheel  :  1.8096808344125748\n",
      "minivan  :  1.774103194475174\n",
      "-----------------------\n",
      "toilet_tissue  :  13.937830924987793\n",
      "car_wheel  :  7.033011317253113\n",
      "jeep  :  6.984754651784897\n",
      "seat_belt  :  6.570147722959518\n",
      "minivan  :  5.799570307135582\n",
      "-----------------------\n",
      "bustard  :  50.64696669578552\n",
      "vulture  :  22.896315157413483\n",
      "crane  :  10.734337568283081\n",
      "kite  :  9.479796886444092\n",
      "white_stork  :  1.6924476251006126\n",
      "-----------------------\n"
     ]
    }
   ],
   "source": [
    "# Dự đoán nhiều ảnh\n",
    "multiple_prediction = ImagePrediction()\n",
    "multiple_prediction.setModelTypeAsResNet()\n",
    "multiple_prediction.setModelPath(os.path.join(execution_path, \"resnet50_weights_tf_dim_ordering_tf_kernels.h5\"))\n",
    "multiple_prediction.loadModel()\n",
    "# Các tốc độ loadModel khác nhau cho ra những kết quả khác nhau (normal, fast, faster, fastest)\n",
    "# prediction.loadModel(prediction_speed=\"fast\")\n",
    "all_images_array = []\n",
    "\n",
    "all_files = os.listdir(execution_path)\n",
    "for each_file in all_files:\n",
    "    if(each_file.endswith(\".jpg\") or each_file.endswith(\".png\")):\n",
    "        all_images_array.append(each_file)\n",
    "\n",
    "results_array = multiple_prediction.predictMultipleImages(all_images_array, result_count_per_image=5)\n",
    "\n",
    "for each_result in results_array:\n",
    "    predictions, percentage_probabilities = each_result[\"predictions\"], each_result[\"percentage_probabilities\"]\n",
    "    for index in range(len(predictions)):\n",
    "        print(predictions[index] , \" : \" , percentage_probabilities[index])\n",
    "    print(\"-----------------------\")\n"
   ]
  },
  {
   "cell_type": "code",
   "execution_count": null,
   "metadata": {},
   "outputs": [],
   "source": []
  }
 ],
 "metadata": {
  "kernelspec": {
   "display_name": "Python 3",
   "language": "python",
   "name": "python3"
  },
  "language_info": {
   "codemirror_mode": {
    "name": "ipython",
    "version": 3
   },
   "file_extension": ".py",
   "mimetype": "text/x-python",
   "name": "python",
   "nbconvert_exporter": "python",
   "pygments_lexer": "ipython3",
   "version": "3.7.3"
  }
 },
 "nbformat": 4,
 "nbformat_minor": 2
}
